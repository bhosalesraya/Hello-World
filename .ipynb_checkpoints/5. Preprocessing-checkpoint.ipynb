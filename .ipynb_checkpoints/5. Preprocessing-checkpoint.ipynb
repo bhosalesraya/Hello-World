{
  "cells": [
    {
      "cell_type": "markdown",
      "id": "5315b081",
      "metadata": {
        "id": "5315b081"
      },
      "source": [
        "<h1 style = \"color:Brown\">Objectives</h1>\n",
        "\n",
        "### 1. Loading data.\n",
        "### 2. Checking for missing values.\n",
        "### 3. Splitting the data in to train set and test set.\n",
        "\n",
        "\n"
      ]
    },
    {
      "cell_type": "code",
      "execution_count": 1,
      "id": "4c02e713",
      "metadata": {
        "id": "4c02e713"
      },
      "outputs": [],
      "source": [
        "import pandas as pd"
      ]
    },
    {
      "cell_type": "code",
      "source": [
        "df=pd.read_csv(\"Churn-Modelling.csv\")\n",
        "print(df.head())\n",
        "print(df.shape)"
      ],
      "metadata": {
        "colab": {
          "base_uri": "https://localhost:8080/",
          "height": 0
        },
        "id": "I4MYKomHGurC",
        "outputId": "dde8f179-afce-4f99-8a38-4f00177766ec"
      },
      "id": "I4MYKomHGurC",
      "execution_count": 8,
      "outputs": [
        {
          "output_type": "stream",
          "name": "stdout",
          "text": [
            "   CreditScore  Age  Tenure    Balance  HasCrCard     Salary  Exited\n",
            "0          619   42       2       0.00          1  101348.88       1\n",
            "1          608   41       1   83807.86          0  112542.58       0\n",
            "2          502   42       8  159660.80          1  113931.57       1\n",
            "3          699   39       1       0.00          0   93826.63       0\n",
            "4          850   43       2  125510.82          1   79084.10       0\n",
            "(10000, 7)\n"
          ]
        }
      ]
    },
    {
      "cell_type": "markdown",
      "id": "557cf5e0",
      "metadata": {
        "id": "557cf5e0"
      },
      "source": [
        "<h2 style = \"color:green\">pandas.isna(object)</h2>\n",
        "\n",
        "### Detects missing values.\n",
        "### Returns a boolen object of same size.\n",
        "### None and np.NaN are mapped True values. Everything else gets mapped to False values."
      ]
    },
    {
      "cell_type": "code",
      "execution_count": 7,
      "id": "05bc4c73",
      "metadata": {
        "colab": {
          "base_uri": "https://localhost:8080/",
          "height": 0
        },
        "id": "05bc4c73",
        "outputId": "0a2233c1-b418-4bde-9443-ceb7c7568d8c"
      },
      "outputs": [
        {
          "output_type": "execute_result",
          "data": {
            "text/plain": [
              "CreditScore    0\n",
              "Age            0\n",
              "Tenure         0\n",
              "Balance        0\n",
              "HasCrCard      0\n",
              "Salary         0\n",
              "Exited         0\n",
              "dtype: int64"
            ]
          },
          "metadata": {},
          "execution_count": 7
        }
      ],
      "source": [
        "pd.isna(df).sum()"
      ]
    },
    {
      "cell_type": "markdown",
      "id": "e3b71cee",
      "metadata": {
        "id": "e3b71cee"
      },
      "source": [
        "<h2 style = \"color:green\">x_train, x_test, y_tran, y_test = train_test_split(x, y, test_size)</h2>\n",
        "\n",
        "### Defined in sklearn.model_selection\n",
        "### test_size attribute decides the proportion of split"
      ]
    },
    {
      "cell_type": "code",
      "execution_count": 10,
      "id": "8bf3afd4",
      "metadata": {
        "colab": {
          "base_uri": "https://localhost:8080/",
          "height": 0
        },
        "id": "8bf3afd4",
        "outputId": "461aa287-5630-41d3-8863-8415cfc61433"
      },
      "outputs": [
        {
          "output_type": "stream",
          "name": "stdout",
          "text": [
            "   CreditScore  Age  Tenure    Balance  HasCrCard     Salary\n",
            "0          619   42       2       0.00          1  101348.88\n",
            "1          608   41       1   83807.86          0  112542.58\n",
            "2          502   42       8  159660.80          1  113931.57\n",
            "3          699   39       1       0.00          0   93826.63\n",
            "4          850   43       2  125510.82          1   79084.10\n",
            "0    1\n",
            "1    0\n",
            "2    1\n",
            "3    0\n",
            "4    0\n",
            "Name: Exited, dtype: int64\n"
          ]
        }
      ],
      "source": [
        "# Split the data\n",
        "x=df.iloc[:,0:-1]\n",
        "y=df.iloc[:,-1]\n",
        "print(x.head())\n",
        "print(y.head())\n"
      ]
    },
    {
      "cell_type": "code",
      "source": [
        "from sklearn.model_selection import train_test_split\n",
        "x=df.iloc[:,0:-1]\n",
        "y=df.iloc[:,-1]\n",
        "x_train,x_test,y_train,y_test = train_test_split(x,y,test_size=0.25)\n",
        "print(\"shape of training set:\")\n",
        "print(x_train.shape)\n",
        "print(y_train.shape)\n",
        "print(\"shape of testing set:\")\n",
        "print(x_test.shape)\n",
        "print(y_test.shape)"
      ],
      "metadata": {
        "colab": {
          "base_uri": "https://localhost:8080/",
          "height": 0
        },
        "id": "nrkPUSF4OMQr",
        "outputId": "91e8f176-25dc-4eab-ffaf-e31776bbcbe7"
      },
      "id": "nrkPUSF4OMQr",
      "execution_count": 14,
      "outputs": [
        {
          "output_type": "stream",
          "name": "stdout",
          "text": [
            "shape of training set:\n",
            "(7500, 6)\n",
            "(7500,)\n",
            "shape of testing set:\n",
            "(2500, 6)\n",
            "(2500,)\n"
          ]
        }
      ]
    },
    {
      "cell_type": "markdown",
      "id": "c29b3ad9",
      "metadata": {
        "id": "c29b3ad9"
      },
      "source": [
        "#### We can use random_state keyword argument to get same set of training and testing samples."
      ]
    },
    {
      "cell_type": "code",
      "execution_count": 22,
      "id": "67b58c1a",
      "metadata": {
        "colab": {
          "base_uri": "https://localhost:8080/",
          "height": 0
        },
        "id": "67b58c1a",
        "outputId": "e5e21340-ea07-4ada-bef1-ec502e2f9281"
      },
      "outputs": [
        {
          "output_type": "stream",
          "name": "stdout",
          "text": [
            "Actual set [10, 20, 30, 40, 50, 60, 70, 80, 90, 100]\n",
            "Training set Input samples: [30, 20, 100, 80, 40, 70, 50]\n",
            "Training set target samples: [90, 60, 10]\n",
            "\n",
            "\n",
            "Actual set [0, 0, 0, 0, 0, 1, 1, 1, 1, 1]\n",
            "Testing set Input samples: [0, 0, 1, 1, 0, 1, 0]\n",
            "Testing set target samples: [1, 1, 0]\n"
          ]
        }
      ],
      "source": [
        "x=[10,20,30,40,50,60,70,80,90,100]\n",
        "y=[0,0,0,0,0,1,1,1,1,1]\n",
        "x_train,x_test,y_train,y_test = train_test_split(x,y,test_size=0.3,random_state=7)\n",
        "print(\"Actual set\",x)\n",
        "print(\"Training set Input samples:\",x_train)\n",
        "print(\"Training set target samples:\",x_test)\n",
        "print('\\n')\n",
        "print(\"Actual set\",y)\n",
        "print(\"Testing set Input samples:\",y_train)\n",
        "print(\"Testing set target samples:\",y_test)\n"
      ]
    }
  ],
  "metadata": {
    "kernelspec": {
      "display_name": "Python 3",
      "language": "python",
      "name": "python3"
    },
    "language_info": {
      "codemirror_mode": {
        "name": "ipython",
        "version": 3
      },
      "file_extension": ".py",
      "mimetype": "text/x-python",
      "name": "python",
      "nbconvert_exporter": "python",
      "pygments_lexer": "ipython3",
      "version": "3.9.4"
    },
    "colab": {
      "provenance": []
    }
  },
  "nbformat": 4,
  "nbformat_minor": 5
}